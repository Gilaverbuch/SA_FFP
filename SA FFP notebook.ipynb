{
 "cells": [
  {
   "cell_type": "code",
   "execution_count": null,
   "id": "13fe0471",
   "metadata": {},
   "outputs": [],
   "source": [
    "import matplotlib.pyplot as plt\n",
    "plt.rcParams['font.size'] = '16'\n",
    "plt.rcParams['figure.dpi'] = 125\n",
    "plt.rcParams['pcolor.shading'] = 'auto'\n",
    "import numpy as np "
   ]
  },
  {
   "cell_type": "code",
   "execution_count": null,
   "id": "d5daaafb",
   "metadata": {
    "scrolled": false
   },
   "outputs": [],
   "source": [
    "%run FFP_SA.py input-parameters"
   ]
  },
  {
   "cell_type": "code",
   "execution_count": null,
   "id": "db0f7ddb",
   "metadata": {},
   "outputs": [],
   "source": [
    "data = np.loadtxt('Results/acoustic_test/TL_alt_1000.csv')"
   ]
  },
  {
   "cell_type": "code",
   "execution_count": null,
   "id": "2245a07e",
   "metadata": {},
   "outputs": [],
   "source": [
    "plt.figure()\n",
    "plt.plot(data[:,0], data[:,1])\n",
    "plt.show()"
   ]
  },
  {
   "cell_type": "code",
   "execution_count": null,
   "id": "eb1baac5",
   "metadata": {},
   "outputs": [],
   "source": [
    "tl = xr.open_dataset('Results/acoustic_test/TL_intensity_ref_source.nc')"
   ]
  },
  {
   "cell_type": "code",
   "execution_count": null,
   "id": "b09e4363",
   "metadata": {},
   "outputs": [],
   "source": [
    "tl"
   ]
  },
  {
   "cell_type": "code",
   "execution_count": null,
   "id": "235c63da",
   "metadata": {},
   "outputs": [],
   "source": [
    "r = tl['Range'].values\n",
    "alt = tl['Altitude'].values\n",
    "TL = tl['TL'].values\n",
    "tl.close()"
   ]
  },
  {
   "cell_type": "code",
   "execution_count": null,
   "id": "ef7f9384",
   "metadata": {},
   "outputs": [],
   "source": [
    "# getting the original colormap using cm.get_cmap() function\n",
    "orig_map=plt.cm.get_cmap('hot')\n",
    "  \n",
    "# reversing the original colormap using reversed() function\n",
    "reversed_map = orig_map.reversed()\n",
    "\n",
    "plt.figure(figsize=(15,5))\n",
    "plt.pcolormesh(r, alt, TL,  cmap=reversed_map)\n",
    "plt.ylim([0,100])\n",
    "plt.xlim([0,500])\n",
    "plt.xlabel('Range [km]')\n",
    "plt.ylabel('Altitude [km]')\n",
    "plt.colorbar(label='TL [dB]')\n",
    "plt.clim([-130,-50])\n",
    "plt.show()"
   ]
  },
  {
   "cell_type": "code",
   "execution_count": null,
   "id": "668ebd65",
   "metadata": {},
   "outputs": [],
   "source": []
  },
  {
   "cell_type": "code",
   "execution_count": null,
   "id": "849e0c24",
   "metadata": {},
   "outputs": [],
   "source": []
  },
  {
   "cell_type": "code",
   "execution_count": null,
   "id": "567860f1",
   "metadata": {},
   "outputs": [],
   "source": []
  }
 ],
 "metadata": {
  "kernelspec": {
   "display_name": "Python 3",
   "language": "python",
   "name": "python3"
  },
  "language_info": {
   "codemirror_mode": {
    "name": "ipython",
    "version": 3
   },
   "file_extension": ".py",
   "mimetype": "text/x-python",
   "name": "python",
   "nbconvert_exporter": "python",
   "pygments_lexer": "ipython3",
   "version": "3.8.5"
  }
 },
 "nbformat": 4,
 "nbformat_minor": 5
}
